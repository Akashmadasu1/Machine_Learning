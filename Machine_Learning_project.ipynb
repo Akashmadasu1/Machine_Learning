{
  "nbformat": 4,
  "nbformat_minor": 0,
  "metadata": {
    "colab": {
      "provenance": [],
      "authorship_tag": "ABX9TyO140/kFcMHuyAo+XAweJhB",
      "include_colab_link": true
    },
    "kernelspec": {
      "name": "python3",
      "display_name": "Python 3"
    },
    "language_info": {
      "name": "python"
    }
  },
  "cells": [
    {
      "cell_type": "markdown",
      "metadata": {
        "id": "view-in-github",
        "colab_type": "text"
      },
      "source": [
        "<a href=\"https://colab.research.google.com/github/Akashmadasu1/Machine_Learning_Projects/blob/main/Machine_Learning_project.ipynb\" target=\"_parent\"><img src=\"https://colab.research.google.com/assets/colab-badge.svg\" alt=\"Open In Colab\"/></a>"
      ]
    },
    {
      "cell_type": "markdown",
      "source": [
        "# Mini Project: Predict Student Marks Based on Study Hours"
      ],
      "metadata": {
        "id": "T88qPqWcqE-e"
      }
    },
    {
      "cell_type": "markdown",
      "source": [
        "Goal: Predict a student’s marks based on hours studied.\n",
        "\n",
        "by using :- Linear Regression (Supervised Learning)"
      ],
      "metadata": {
        "id": "XFMzzkdxqL4c"
      }
    },
    {
      "cell_type": "markdown",
      "source": [
        "Step 1: Import Required Libraries"
      ],
      "metadata": {
        "id": "f9Ayl_z4qqni"
      }
    },
    {
      "cell_type": "markdown",
      "source": [
        "💡 Explanation:\n",
        "\n",
        "| Line                             | Purpose                                      |\n",
        "| -------------------------------- | -------------------------------------------- |\n",
        "| `pandas`                         | To load and explore the dataset              |\n",
        "| `matplotlib`                     | To create graphs                             |\n",
        "| `train_test_split`               | To split your data into training and testing |\n",
        "| `LinearRegression`               | The main ML model we’ll use                  |\n",
        "| `mean_squared_error`, `r2_score` | To measure how good your predictions are     |\n"
      ],
      "metadata": {
        "id": "5SQt7-UCrRZ4"
      }
    },
    {
      "cell_type": "code",
      "execution_count": null,
      "metadata": {
        "id": "rA6uGs6zp1cp"
      },
      "outputs": [],
      "source": [
        "# Import basic libraries\n",
        "import pandas as pd                  # For data handling\n",
        "import matplotlib.pyplot as plt      # For plotting\n",
        "from sklearn.model_selection import train_test_split  # To split data\n",
        "from sklearn.linear_model import LinearRegression      # To build the model\n",
        "from sklearn.metrics import mean_squared_error, r2_score  # For evaluation\n"
      ]
    },
    {
      "cell_type": "markdown",
      "source": [
        "Step 2: Load Dataset from a CSV File\n"
      ],
      "metadata": {
        "id": "XTS6gonSriWE"
      }
    },
    {
      "cell_type": "markdown",
      "source": [
        "💡 What this does:\n",
        "Loads the dataset directly from GitHub (you don’t have to upload manually)\n",
        "\n",
        "Shows the first 5 rows using df.head()"
      ],
      "metadata": {
        "id": "HNEPiIy8r1EK"
      }
    },
    {
      "cell_type": "code",
      "source": [
        "# Load CSV dataset (you can also upload your file if needed)\n",
        "url = \"https://raw.githubusercontent.com/AdiPersonalWorks/Random/master/student_scores%20-%20student_scores.csv\"\n",
        "df = pd.read_csv(url)\n",
        "\n",
        "# Show first few rows\n",
        "df.head()\n"
      ],
      "metadata": {
        "id": "HFFcQWD9q0sI"
      },
      "execution_count": null,
      "outputs": []
    },
    {
      "cell_type": "markdown",
      "source": [
        " Step 3: Visualize the Data"
      ],
      "metadata": {
        "id": "p-RwEgGssDDz"
      }
    },
    {
      "cell_type": "markdown",
      "source": [
        "Let’s draw a scatter plot to see the relationship between Hours Studied and Scores."
      ],
      "metadata": {
        "id": "6V15Z6l9sE8A"
      }
    },
    {
      "cell_type": "markdown",
      "source": [
        "💡 What this does:\n",
        "\n",
        "| Code                        | Explanation                            |\n",
        "| --------------------------- | -------------------------------------- |\n",
        "| `plt.scatter(...)`          | Plots the actual data points           |\n",
        "| `title()`, `xlabel()`, etc. | Adds labels to make the graph readable |\n",
        "| `show()`                    | Displays the graph                     |\n"
      ],
      "metadata": {
        "id": "Ih7I6AnksIdZ"
      }
    },
    {
      "cell_type": "markdown",
      "source": [
        "You should see a graph with dots going upward → meaning:\n",
        "➡️ More hours studied = higher score"
      ],
      "metadata": {
        "id": "Ey41msCBsYAC"
      }
    },
    {
      "cell_type": "code",
      "source": [
        "# Visualize the data\n",
        "plt.scatter(df['Hours'], df['Scores'], color='blue')\n",
        "plt.title('Study Hours vs Scores')\n",
        "plt.xlabel('Hours Studied')\n",
        "plt.ylabel('Scores')\n",
        "plt.grid(True)\n",
        "plt.show()\n"
      ],
      "metadata": {
        "colab": {
          "base_uri": "https://localhost:8080/",
          "height": 472
        },
        "id": "bkp4auDrsOnO",
        "outputId": "1009124f-e38e-4b21-f284-f14b08102b78"
      },
      "execution_count": null,
      "outputs": [
        {
          "output_type": "display_data",
          "data": {
            "text/plain": [
              "<Figure size 640x480 with 1 Axes>"
            ],
            "image/png": "[encoded data removed]"
          },
          "metadata": {}
        }
      ]
    },
    {
      "cell_type": "markdown",
      "source": [
        "✅ Step 4: Split the Data into Training and Test Sets"
      ],
      "metadata": {
        "id": "ElPJ36sOtYsE"
      }
    },
    {
      "cell_type": "markdown",
      "source": [
        "📌 Why?\n",
        "We split the data so that:\n",
        "\n",
        "The model learns from the training set\n",
        "\n",
        "Then we test its performance on unseen data (test set)"
      ],
      "metadata": {
        "id": "Zt2-TstOtans"
      }
    },
    {
      "cell_type": "markdown",
      "source": [
        "💡 Explanation:\n",
        "\n",
        "| Line                    | What it Does                                   |\n",
        "| ----------------------- | ---------------------------------------------- |\n",
        "| `X = df[['Hours']]`     | Extracts the input feature (must be 2D format) |\n",
        "| `y = df['Scores']`      | Extracts the output variable (target)          |\n",
        "| `train_test_split(...)` | Randomly splits your data into train/test sets |\n",
        "| `test_size=0.2`         | Keeps 20% for testing, 80% for training        |\n",
        "| `random_state=42`       | Ensures results are reproducible               |\n"
      ],
      "metadata": {
        "id": "5lA3LH0Cu03d"
      }
    },
    {
      "cell_type": "code",
      "source": [
        "# Split the data into input (X) and output (y)\n",
        "X = df[['Hours']]  # Input should be 2D\n",
        "y = df['Scores']   # Output can be 1D\n",
        "\n",
        "# Split into training and testing data (80% train, 20% test)\n",
        "X_train, X_test, y_train, y_test = train_test_split(X, y, test_size=0.2, random_state=42)\n",
        "\n",
        "# Show the shape of data\n",
        "print(\"Training Set:\", X_train.shape)\n",
        "print(\"Testing Set:\", X_test.shape)\n"
      ],
      "metadata": {
        "colab": {
          "base_uri": "https://localhost:8080/"
        },
        "id": "npd5b5xEu4o_",
        "outputId": "70276e91-22a7-4a77-b0fe-d9b4164356f3"
      },
      "execution_count": null,
      "outputs": [
        {
          "output_type": "stream",
          "name": "stdout",
          "text": [
            "Training Set: (20, 1)\n",
            "Testing Set: (5, 1)\n"
          ]
        }
      ]
    },
    {
      "cell_type": "markdown",
      "source": [
        "✅ Step 5: Train the Linear Regression Model"
      ],
      "metadata": {
        "id": "iKXkTrWCvvgJ"
      }
    },
    {
      "cell_type": "markdown",
      "source": [
        "We’ll now fit the model to your training data so it learns the relationship between Hours and Scores."
      ],
      "metadata": {
        "id": "i0txIEjcvzIn"
      }
    },
    {
      "cell_type": "markdown",
      "source": [
        "🧠 What Does \"Training\" Mean Here?\n",
        "Training = Finding the best-fit line:\n",
        "\n",
        "y\n",
        "^\n",
        "​\n",
        " =wX+b\n",
        "\n",
        "\n",
        "scikit-learn will calculate the best values of w (slope) and b (intercept) for you."
      ],
      "metadata": {
        "id": "1fEBhkesv2A_"
      }
    },
    {
      "cell_type": "markdown",
      "source": [
        "🧠 Formula:\n",
        "\n",
        "y^​=wX+b\n",
        "\n",
        "🔤 This is read as:\n",
        "\n",
        "\"y hat equals w times X plus b\""
      ],
      "metadata": {
        "id": "ahSKtmz0y3Ir"
      }
    },
    {
      "cell_type": "markdown",
      "source": [
        "🧩 What Does Each Symbol Mean?\n",
        "\n",
        "| Symbol      | Meaning                                   | Example (Student Marks)              |\n",
        "| ----------- | ----------------------------------------- | ------------------------------------ |\n",
        "| `ŷ` (y hat) | **Predicted output** (your model's guess) | Predicted marks of a student         |\n",
        "| `X`         | **Input feature** (independent variable)  | Hours studied                        |\n",
        "| `w`         | **Weight** or **Slope** of the line       | Score increase per 1 hour studied    |\n",
        "| `b`         | **Bias** or **Intercept** (y when X = 0)  | Predicted score for 0 hours of study |\n"
      ],
      "metadata": {
        "id": "9J0vCX1vzHfR"
      }
    },
    {
      "cell_type": "markdown",
      "source": [
        "🧮 Example:\n",
        "\n",
        "Suppose your model learned:\n",
        "\n",
        "w = 9.71\n",
        "\n",
        "b = 2.83\n",
        "\n",
        "Then your prediction formula becomes:\n",
        "\n",
        "y^ = 9.71⋅X + 2.83\n",
        "\n",
        "Now, if a student studied X = 5 hours:\n",
        "\n",
        "y^ = 9.71×5 + 2.83 = 48.55 + 2.83 = 51.38\n",
        "\n",
        "✅ The model predicts the student will score 51.38 marks"
      ],
      "metadata": {
        "id": "z-8Kn9IbzkMJ"
      }
    },
    {
      "cell_type": "markdown",
      "source": [
        "🎯 Purpose of this Formula:\n",
        "\n",
        "To let your machine predict future values of y for any given X.\n",
        "\n",
        "It’s like telling the computer:\n",
        "\n",
        "“Here’s how marks increase with hours — now guess the marks for 6 hours, 7 hours, etc.”"
      ],
      "metadata": {
        "id": "k8y1c74n0HCD"
      }
    },
    {
      "cell_type": "code",
      "source": [
        "# Create a Linear Regression model\n",
        "model = LinearRegression()\n",
        "\n",
        "# Train the model on the training data\n",
        "model.fit(X_train, y_train)\n"
      ],
      "metadata": {
        "colab": {
          "base_uri": "https://localhost:8080/",
          "height": 80
        },
        "id": "nDMU0SwawbbV",
        "outputId": "83b945fd-e915-475a-d424-6b513a817cad"
      },
      "execution_count": null,
      "outputs": [
        {
          "output_type": "execute_result",
          "data": {
            "text/plain": [
              "LinearRegression()"
            ],
            "text/html": [
              "<style>#sk-container-id-1 {\n",
              "  /* Definition of color scheme common for light and dark mode */\n",
              "  --sklearn-color-text: #000;\n",
              "  --sklearn-color-text-muted: #666;\n",
              "  --sklearn-color-line: gray;\n",
              "  /* Definition of color scheme for unfitted estimators */\n",
              "  --sklearn-color-unfitted-level-0: #fff5e6;\n",
              "  --sklearn-color-unfitted-level-1: #f6e4d2;\n",
              "  --sklearn-color-unfitted-level-2: #ffe0b3;\n",
              "  --sklearn-color-unfitted-level-3: chocolate;\n",
              "  /* Definition of color scheme for fitted estimators */\n",
              "  --sklearn-color-fitted-level-0: #f0f8ff;\n",
              "  --sklearn-color-fitted-level-1: #d4ebff;\n",
              "  --sklearn-color-fitted-level-2: #b3dbfd;\n",
              "  --sklearn-color-fitted-level-3: cornflowerblue;\n",
              "\n",
              "  /* Specific color for light theme */\n",
              "  --sklearn-color-text-on-default-background: var(--sg-text-color, var(--theme-code-foreground, var(--jp-content-font-color1, black)));\n",
              "  --sklearn-color-background: var(--sg-background-color, var(--theme-background, var(--jp-layout-color0, white)));\n",
              "  --sklearn-color-border-box: var(--sg-text-color, var(--theme-code-foreground, var(--jp-content-font-color1, black)));\n",
              "  --sklearn-color-icon: #696969;\n",
              "\n",
              "  @media (prefers-color-scheme: dark) {\n",
              "    /* Redefinition of color scheme for dark theme */\n",
              "    --sklearn-color-text-on-default-background: var(--sg-text-color, var(--theme-code-foreground, var(--jp-content-font-color1, white)));\n",
              "    --sklearn-color-background: var(--sg-background-color, var(--theme-background, var(--jp-layout-color0, #111)));\n",
              "    --sklearn-color-border-box: var(--sg-text-color, var(--theme-code-foreground, var(--jp-content-font-color1, white)));\n",
              "    --sklearn-color-icon: #878787;\n",
              "  }\n",
              "}\n",
              "\n",
              "#sk-container-id-1 {\n",
              "  color: var(--sklearn-color-text);\n",
              "}\n",
              "\n",
              "#sk-container-id-1 pre {\n",
              "  padding: 0;\n",
              "}\n",
              "\n",
              "#sk-container-id-1 input.sk-hidden--visually {\n",
              "  border: 0;\n",
              "  clip: rect(1px 1px 1px 1px);\n",
              "  clip: rect(1px, 1px, 1px, 1px);\n",
              "  height: 1px;\n",
              "  margin: -1px;\n",
              "  overflow: hidden;\n",
              "  padding: 0;\n",
              "  position: absolute;\n",
              "  width: 1px;\n",
              "}\n",
              "\n",
              "#sk-container-id-1 div.sk-dashed-wrapped {\n",
              "  border: 1px dashed var(--sklearn-color-line);\n",
              "  margin: 0 0.4em 0.5em 0.4em;\n",
              "  box-sizing: border-box;\n",
              "  padding-bottom: 0.4em;\n",
              "  background-color: var(--sklearn-color-background);\n",
              "}\n",
              "\n",
              "#sk-container-id-1 div.sk-container {\n",
              "  /* jupyter's `normalize.less` sets `[hidden] { display: none; }`\n",
              "     but bootstrap.min.css set `[hidden] { display: none !important; }`\n",
              "     so we also need the `!important` here to be able to override the\n",
              "     default hidden behavior on the sphinx rendered scikit-learn.org.\n",
              "     See: https://github.com/scikit-learn/scikit-learn/issues/21755 */\n",
              "  display: inline-block !important;\n",
              "  position: relative;\n",
              "}\n",
              "\n",
              "#sk-container-id-1 div.sk-text-repr-fallback {\n",
              "  display: none;\n",
              "}\n",
              "\n",
              "div.sk-parallel-item,\n",
              "div.sk-serial,\n",
              "div.sk-item {\n",
              "  /* draw centered vertical line to link estimators */\n",
              "  background-image: linear-gradient(var(--sklearn-color-text-on-default-background), var(--sklearn-color-text-on-default-background));\n",
              "  background-size: 2px 100%;\n",
              "  background-repeat: no-repeat;\n",
              "  background-position: center center;\n",
              "}\n",
              "\n",
              "/* Parallel-specific style estimator block */\n",
              "\n",
              "#sk-container-id-1 div.sk-parallel-item::after {\n",
              "  content: \"\";\n",
              "  width: 100%;\n",
              "  border-bottom: 2px solid var(--sklearn-color-text-on-default-background);\n",
              "  flex-grow: 1;\n",
              "}\n",
              "\n",
              "#sk-container-id-1 div.sk-parallel {\n",
              "  display: flex;\n",
              "  align-items: stretch;\n",
              "  justify-content: center;\n",
              "  background-color: var(--sklearn-color-background);\n",
              "  position: relative;\n",
              "}\n",
              "\n",
              "#sk-container-id-1 div.sk-parallel-item {\n",
              "  display: flex;\n",
              "  flex-direction: column;\n",
              "}\n",
              "\n",
              "#sk-container-id-1 div.sk-parallel-item:first-child::after {\n",
              "  align-self: flex-end;\n",
              "  width: 50%;\n",
              "}\n",
              "\n",
              "#sk-container-id-1 div.sk-parallel-item:last-child::after {\n",
              "  align-self: flex-start;\n",
              "  width: 50%;\n",
              "}\n",
              "\n",
              "#sk-container-id-1 div.sk-parallel-item:only-child::after {\n",
              "  width: 0;\n",
              "}\n",
              "\n",
              "/* Serial-specific style estimator block */\n",
              "\n",
              "#sk-container-id-1 div.sk-serial {\n",
              "  display: flex;\n",
              "  flex-direction: column;\n",
              "  align-items: center;\n",
              "  background-color: var(--sklearn-color-background);\n",
              "  padding-right: 1em;\n",
              "  padding-left: 1em;\n",
              "}\n",
              "\n",
              "\n",
              "/* Toggleable style: style used for estimator/Pipeline/ColumnTransformer box that is\n",
              "clickable and can be expanded/collapsed.\n",
              "- Pipeline and ColumnTransformer use this feature and define the default style\n",
              "- Estimators will overwrite some part of the style using the `sk-estimator` class\n",
              "*/\n",
              "\n",
              "/* Pipeline and ColumnTransformer style (default) */\n",
              "\n",
              "#sk-container-id-1 div.sk-toggleable {\n",
              "  /* Default theme specific background. It is overwritten whether we have a\n",
              "  specific estimator or a Pipeline/ColumnTransformer */\n",
              "  background-color: var(--sklearn-color-background);\n",
              "}\n",
              "\n",
              "/* Toggleable label */\n",
              "#sk-container-id-1 label.sk-toggleable__label {\n",
              "  cursor: pointer;\n",
              "  display: flex;\n",
              "  width: 100%;\n",
              "  margin-bottom: 0;\n",
              "  padding: 0.5em;\n",
              "  box-sizing: border-box;\n",
              "  text-align: center;\n",
              "  align-items: start;\n",
              "  justify-content: space-between;\n",
              "  gap: 0.5em;\n",
              "}\n",
              "\n",
              "#sk-container-id-1 label.sk-toggleable__label .caption {\n",
              "  font-size: 0.6rem;\n",
              "  font-weight: lighter;\n",
              "  color: var(--sklearn-color-text-muted);\n",
              "}\n",
              "\n",
              "#sk-container-id-1 label.sk-toggleable__label-arrow:before {\n",
              "  /* Arrow on the left of the label */\n",
              "  content: \"▸\";\n",
              "  float: left;\n",
              "  margin-right: 0.25em;\n",
              "  color: var(--sklearn-color-icon);\n",
              "}\n",
              "\n",
              "#sk-container-id-1 label.sk-toggleable__label-arrow:hover:before {\n",
              "  color: var(--sklearn-color-text);\n",
              "}\n",
              "\n",
              "/* Toggleable content - dropdown */\n",
              "\n",
              "#sk-container-id-1 div.sk-toggleable__content {\n",
              "  max-height: 0;\n",
              "  max-width: 0;\n",
              "  overflow: hidden;\n",
              "  text-align: left;\n",
              "  /* unfitted */\n",
              "  background-color: var(--sklearn-color-unfitted-level-0);\n",
              "}\n",
              "\n",
              "#sk-container-id-1 div.sk-toggleable__content.fitted {\n",
              "  /* fitted */\n",
              "  background-color: var(--sklearn-color-fitted-level-0);\n",
              "}\n",
              "\n",
              "#sk-container-id-1 div.sk-toggleable__content pre {\n",
              "  margin: 0.2em;\n",
              "  border-radius: 0.25em;\n",
              "  color: var(--sklearn-color-text);\n",
              "  /* unfitted */\n",
              "  background-color: var(--sklearn-color-unfitted-level-0);\n",
              "}\n",
              "\n",
              "#sk-container-id-1 div.sk-toggleable__content.fitted pre {\n",
              "  /* unfitted */\n",
              "  background-color: var(--sklearn-color-fitted-level-0);\n",
              "}\n",
              "\n",
              "#sk-container-id-1 input.sk-toggleable__control:checked~div.sk-toggleable__content {\n",
              "  /* Expand drop-down */\n",
              "  max-height: 200px;\n",
              "  max-width: 100%;\n",
              "  overflow: auto;\n",
              "}\n",
              "\n",
              "#sk-container-id-1 input.sk-toggleable__control:checked~label.sk-toggleable__label-arrow:before {\n",
              "  content: \"▾\";\n",
              "}\n",
              "\n",
              "/* Pipeline/ColumnTransformer-specific style */\n",
              "\n",
              "#sk-container-id-1 div.sk-label input.sk-toggleable__control:checked~label.sk-toggleable__label {\n",
              "  color: var(--sklearn-color-text);\n",
              "  background-color: var(--sklearn-color-unfitted-level-2);\n",
              "}\n",
              "\n",
              "#sk-container-id-1 div.sk-label.fitted input.sk-toggleable__control:checked~label.sk-toggleable__label {\n",
              "  background-color: var(--sklearn-color-fitted-level-2);\n",
              "}\n",
              "\n",
              "/* Estimator-specific style */\n",
              "\n",
              "/* Colorize estimator box */\n",
              "#sk-container-id-1 div.sk-estimator input.sk-toggleable__control:checked~label.sk-toggleable__label {\n",
              "  /* unfitted */\n",
              "  background-color: var(--sklearn-color-unfitted-level-2);\n",
              "}\n",
              "\n",
              "#sk-container-id-1 div.sk-estimator.fitted input.sk-toggleable__control:checked~label.sk-toggleable__label {\n",
              "  /* fitted */\n",
              "  background-color: var(--sklearn-color-fitted-level-2);\n",
              "}\n",
              "\n",
              "#sk-container-id-1 div.sk-label label.sk-toggleable__label,\n",
              "#sk-container-id-1 div.sk-label label {\n",
              "  /* The background is the default theme color */\n",
              "  color: var(--sklearn-color-text-on-default-background);\n",
              "}\n",
              "\n",
              "/* On hover, darken the color of the background */\n",
              "#sk-container-id-1 div.sk-label:hover label.sk-toggleable__label {\n",
              "  color: var(--sklearn-color-text);\n",
              "  background-color: var(--sklearn-color-unfitted-level-2);\n",
              "}\n",
              "\n",
              "/* Label box, darken color on hover, fitted */\n",
              "#sk-container-id-1 div.sk-label.fitted:hover label.sk-toggleable__label.fitted {\n",
              "  color: var(--sklearn-color-text);\n",
              "  background-color: var(--sklearn-color-fitted-level-2);\n",
              "}\n",
              "\n",
              "/* Estimator label */\n",
              "\n",
              "#sk-container-id-1 div.sk-label label {\n",
              "  font-family: monospace;\n",
              "  font-weight: bold;\n",
              "  display: inline-block;\n",
              "  line-height: 1.2em;\n",
              "}\n",
              "\n",
              "#sk-container-id-1 div.sk-label-container {\n",
              "  text-align: center;\n",
              "}\n",
              "\n",
              "/* Estimator-specific */\n",
              "#sk-container-id-1 div.sk-estimator {\n",
              "  font-family: monospace;\n",
              "  border: 1px dotted var(--sklearn-color-border-box);\n",
              "  border-radius: 0.25em;\n",
              "  box-sizing: border-box;\n",
              "  margin-bottom: 0.5em;\n",
              "  /* unfitted */\n",
              "  background-color: var(--sklearn-color-unfitted-level-0);\n",
              "}\n",
              "\n",
              "#sk-container-id-1 div.sk-estimator.fitted {\n",
              "  /* fitted */\n",
              "  background-color: var(--sklearn-color-fitted-level-0);\n",
              "}\n",
              "\n",
              "/* on hover */\n",
              "#sk-container-id-1 div.sk-estimator:hover {\n",
              "  /* unfitted */\n",
              "  background-color: var(--sklearn-color-unfitted-level-2);\n",
              "}\n",
              "\n",
              "#sk-container-id-1 div.sk-estimator.fitted:hover {\n",
              "  /* fitted */\n",
              "  background-color: var(--sklearn-color-fitted-level-2);\n",
              "}\n",
              "\n",
              "/* Specification for estimator info (e.g. \"i\" and \"?\") */\n",
              "\n",
              "/* Common style for \"i\" and \"?\" */\n",
              "\n",
              ".sk-estimator-doc-link,\n",
              "a:link.sk-estimator-doc-link,\n",
              "a:visited.sk-estimator-doc-link {\n",
              "  float: right;\n",
              "  font-size: smaller;\n",
              "  line-height: 1em;\n",
              "  font-family: monospace;\n",
              "  background-color: var(--sklearn-color-background);\n",
              "  border-radius: 1em;\n",
              "  height: 1em;\n",
              "  width: 1em;\n",
              "  text-decoration: none !important;\n",
              "  margin-left: 0.5em;\n",
              "  text-align: center;\n",
              "  /* unfitted */\n",
              "  border: var(--sklearn-color-unfitted-level-1) 1pt solid;\n",
              "  color: var(--sklearn-color-unfitted-level-1);\n",
              "}\n",
              "\n",
              ".sk-estimator-doc-link.fitted,\n",
              "a:link.sk-estimator-doc-link.fitted,\n",
              "a:visited.sk-estimator-doc-link.fitted {\n",
              "  /* fitted */\n",
              "  border: var(--sklearn-color-fitted-level-1) 1pt solid;\n",
              "  color: var(--sklearn-color-fitted-level-1);\n",
              "}\n",
              "\n",
              "/* On hover */\n",
              "div.sk-estimator:hover .sk-estimator-doc-link:hover,\n",
              ".sk-estimator-doc-link:hover,\n",
              "div.sk-label-container:hover .sk-estimator-doc-link:hover,\n",
              ".sk-estimator-doc-link:hover {\n",
              "  /* unfitted */\n",
              "  background-color: var(--sklearn-color-unfitted-level-3);\n",
              "  color: var(--sklearn-color-background);\n",
              "  text-decoration: none;\n",
              "}\n",
              "\n",
              "div.sk-estimator.fitted:hover .sk-estimator-doc-link.fitted:hover,\n",
              ".sk-estimator-doc-link.fitted:hover,\n",
              "div.sk-label-container:hover .sk-estimator-doc-link.fitted:hover,\n",
              ".sk-estimator-doc-link.fitted:hover {\n",
              "  /* fitted */\n",
              "  background-color: var(--sklearn-color-fitted-level-3);\n",
              "  color: var(--sklearn-color-background);\n",
              "  text-decoration: none;\n",
              "}\n",
              "\n",
              "/* Span, style for the box shown on hovering the info icon */\n",
              ".sk-estimator-doc-link span {\n",
              "  display: none;\n",
              "  z-index: 9999;\n",
              "  position: relative;\n",
              "  font-weight: normal;\n",
              "  right: .2ex;\n",
              "  padding: .5ex;\n",
              "  margin: .5ex;\n",
              "  width: min-content;\n",
              "  min-width: 20ex;\n",
              "  max-width: 50ex;\n",
              "  color: var(--sklearn-color-text);\n",
              "  box-shadow: 2pt 2pt 4pt #999;\n",
              "  /* unfitted */\n",
              "  background: var(--sklearn-color-unfitted-level-0);\n",
              "  border: .5pt solid var(--sklearn-color-unfitted-level-3);\n",
              "}\n",
              "\n",
              ".sk-estimator-doc-link.fitted span {\n",
              "  /* fitted */\n",
              "  background: var(--sklearn-color-fitted-level-0);\n",
              "  border: var(--sklearn-color-fitted-level-3);\n",
              "}\n",
              "\n",
              ".sk-estimator-doc-link:hover span {\n",
              "  display: block;\n",
              "}\n",
              "\n",
              "/* \"?\"-specific style due to the `<a>` HTML tag */\n",
              "\n",
              "#sk-container-id-1 a.estimator_doc_link {\n",
              "  float: right;\n",
              "  font-size: 1rem;\n",
              "  line-height: 1em;\n",
              "  font-family: monospace;\n",
              "  background-color: var(--sklearn-color-background);\n",
              "  border-radius: 1rem;\n",
              "  height: 1rem;\n",
              "  width: 1rem;\n",
              "  text-decoration: none;\n",
              "  /* unfitted */\n",
              "  color: var(--sklearn-color-unfitted-level-1);\n",
              "  border: var(--sklearn-color-unfitted-level-1) 1pt solid;\n",
              "}\n",
              "\n",
              "#sk-container-id-1 a.estimator_doc_link.fitted {\n",
              "  /* fitted */\n",
              "  border: var(--sklearn-color-fitted-level-1) 1pt solid;\n",
              "  color: var(--sklearn-color-fitted-level-1);\n",
              "}\n",
              "\n",
              "/* On hover */\n",
              "#sk-container-id-1 a.estimator_doc_link:hover {\n",
              "  /* unfitted */\n",
              "  background-color: var(--sklearn-color-unfitted-level-3);\n",
              "  color: var(--sklearn-color-background);\n",
              "  text-decoration: none;\n",
              "}\n",
              "\n",
              "#sk-container-id-1 a.estimator_doc_link.fitted:hover {\n",
              "  /* fitted */\n",
              "  background-color: var(--sklearn-color-fitted-level-3);\n",
              "}\n",
              "</style><div id=\"sk-container-id-1\" class=\"sk-top-container\"><div class=\"sk-text-repr-fallback\"><pre>LinearRegression()</pre><b>In a Jupyter environment, please rerun this cell to show the HTML representation or trust the notebook. <br />On GitHub, the HTML representation is unable to render, please try loading this page with nbviewer.org.</b></div><div class=\"sk-container\" hidden><div class=\"sk-item\"><div class=\"sk-estimator fitted sk-toggleable\"><input class=\"sk-toggleable__control sk-hidden--visually\" id=\"sk-estimator-id-1\" type=\"checkbox\" checked><label for=\"sk-estimator-id-1\" class=\"sk-toggleable__label fitted sk-toggleable__label-arrow\"><div><div>LinearRegression</div></div><div><a class=\"sk-estimator-doc-link fitted\" rel=\"noreferrer\" target=\"_blank\" href=\"https://scikit-learn.org/1.6/modules/generated/sklearn.linear_model.LinearRegression.html\">?<span>Documentation for LinearRegression</span></a><span class=\"sk-estimator-doc-link fitted\">i<span>Fitted</span></span></div></label><div class=\"sk-toggleable__content fitted\"><pre>LinearRegression()</pre></div> </div></div></div></div>"
            ]
          },
          "metadata": {},
          "execution_count": 5
        }
      ]
    },
    {
      "cell_type": "markdown",
      "source": [
        "💡 Explanation:\n",
        "\n",
        "| Code                    | What it Does                                               |\n",
        "| ----------------------- | ---------------------------------------------------------- |\n",
        "| `LinearRegression()`    | Creates the model object                                   |\n",
        "| `fit(X_train, y_train)` | Trains the model to find the best line using training data |\n"
      ],
      "metadata": {
        "id": "7PkvlkXqzV1A"
      }
    },
    {
      "cell_type": "markdown",
      "source": [
        "✅ You can now check the learned parameters:"
      ],
      "metadata": {
        "id": "hz8-IeGIwv90"
      }
    },
    {
      "cell_type": "code",
      "source": [
        "print(\"Slope (w):\", model.coef_[0])\n",
        "print(\"Intercept (b):\", model.intercept_)\n"
      ],
      "metadata": {
        "colab": {
          "base_uri": "https://localhost:8080/"
        },
        "id": "Sje8Utd1wwxG",
        "outputId": "b7d0c237-1fb4-4561-aa4d-57a225149072"
      },
      "execution_count": null,
      "outputs": [
        {
          "output_type": "stream",
          "name": "stdout",
          "text": [
            "Slope (w): 9.682078154455697\n",
            "Intercept (b): 2.826892353899737\n"
          ]
        }
      ]
    },
    {
      "cell_type": "markdown",
      "source": [
        "🔍 Explanation:\n",
        "1️⃣ model.coef_\n",
        "\n",
        "1.This gives you the slope (w) of the line.\n",
        "\n",
        "2.It means: For every 1 hour increase in study time, how much will the score increase?\n",
        "\n",
        "3.The output is in a list/array format, so we use [0] to get the actual number.\n",
        "\n",
        "Example:\n",
        "\n",
        "model.coef_ → [9.71]\n",
        "\n",
        "model.coef_[0] → 9.71\n",
        "\n",
        "So:\n",
        "\n",
        "Score increase per hour\n",
        "≈\n",
        "9.71\n",
        "Score increase per hour≈9.71\n"
      ],
      "metadata": {
        "id": "sjVTAr6lxixy"
      }
    },
    {
      "cell_type": "markdown",
      "source": [
        "2️⃣ model.intercept_\n",
        "This gives you the intercept (b) of the line.\n",
        "\n",
        "It means: What would the predicted score be if the student studied 0 hours?\n",
        "\n",
        "Example:\n",
        "\n",
        "model.intercept_ → 2.83\n",
        "\n",
        "So:\n",
        "\n",
        "Predicted Score at 0 hours\n",
        "≈\n",
        "2.83\n",
        "Predicted Score at 0 hours≈2.83"
      ],
      "metadata": {
        "id": "s9mvUyHTx_Cj"
      }
    },
    {
      "cell_type": "markdown",
      "source": [
        "✅ Together, your model is now:\n",
        "\n",
        "\n",
        "Predicted Score=9.71×Hours Studied+2.83\n",
        "\n",
        "This is the final line your model will use to make predictions!"
      ],
      "metadata": {
        "id": "rXl2I9DJyRhn"
      }
    },
    {
      "cell_type": "markdown",
      "source": [
        "✅ Step 6: Visualize the Best-Fit Line (Prediction Line)"
      ],
      "metadata": {
        "id": "WC68JxyLyjD0"
      }
    },
    {
      "cell_type": "code",
      "source": [
        "# Plot original data points (blue)\n",
        "plt.scatter(X, y, color='blue', label='Actual Data')\n",
        "\n",
        "# Plot regression line (red)\n",
        "plt.plot(X, model.predict(X), color='red', label='Regression Line')\n",
        "\n",
        "# Add labels and grid\n",
        "plt.title('Hours vs Scores with Regression Line')\n",
        "plt.xlabel('Hours Studied')\n",
        "plt.ylabel('Scores')\n",
        "plt.legend()\n",
        "plt.grid(True)\n",
        "plt.show()\n"
      ],
      "metadata": {
        "colab": {
          "base_uri": "https://localhost:8080/",
          "height": 472
        },
        "id": "350ASaUg0aZS",
        "outputId": "e3bd9241-d003-4b21-f6f6-f7b940f6e359"
      },
      "execution_count": null,
      "outputs": [
        {
          "output_type": "display_data",
          "data": {
            "text/plain": [
              "<Figure size 640x480 with 1 Axes>"
            ],
            "image/png": "[encoded data removed]"
          },
          "metadata": {}
        }
      ]
    },
    {
      "cell_type": "markdown",
      "source": [
        "💡 Explanation:\n",
        "\n",
        "| Code               | What it does                                |\n",
        "| ------------------ | ------------------------------------------- |\n",
        "| `plt.scatter(...)` | Plots the original data points              |\n",
        "| `model.predict(X)` | Calculates predicted scores for all X       |\n",
        "| `plt.plot(...)`    | Draws the regression line using predictions |\n",
        "| `legend()`         | Adds labels for clarity                     |\n"
      ],
      "metadata": {
        "id": "nUj2iSrO0cE0"
      }
    },
    {
      "cell_type": "markdown",
      "source": [
        "✅ What You’ll See:\n",
        "\n",
        "🔵 Blue dots = Actual data (Hours vs Scores)\n",
        "\n",
        "🔴 Red line = Best-fit line predicted by your model\n",
        "\n",
        "This is the visual proof that your model has learned how scores change with hours studied."
      ],
      "metadata": {
        "id": "0qwB5WBS0ihl"
      }
    },
    {
      "cell_type": "markdown",
      "source": [
        "✅ Step 7: Make Predictions with Custom Input\n",
        "\n",
        "Let’s say you want to predict the marks for a student who studies 6.5 hours.\n",
        "\n"
      ],
      "metadata": {
        "id": "vKYAnCx60-Me"
      }
    },
    {
      "cell_type": "code",
      "source": [
        "import pandas as pd\n",
        "\n",
        "# Create a DataFrame with same feature name\n",
        "hours_df = pd.DataFrame([[6.5]], columns=['Hours'])\n",
        "predicted_score = model.predict(hours_df)\n",
        "\n",
        "print(f\"If a student studies for 6.5 hours, they are likely to score {predicted_score[0]:.2f} marks.\")\n"
      ],
      "metadata": {
        "colab": {
          "base_uri": "https://localhost:8080/"
        },
        "id": "skjH3inv1DEh",
        "outputId": "2ad322f3-00f6-4e93-cf8b-3ca49cd80756"
      },
      "execution_count": null,
      "outputs": [
        {
          "output_type": "stream",
          "name": "stdout",
          "text": [
            "If a student studies for 6.5 hours, they are likely to score 65.76 marks.\n"
          ]
        }
      ]
    },
    {
      "cell_type": "markdown",
      "source": [
        "💡 Explanation:\n",
        "\n",
        "| Code                     | What It Does                                                    |\n",
        "| ------------------------ | --------------------------------------------------------------- |\n",
        "| `model.predict([[6.5]])` | Predicts output using the formula `ŷ = wX + b`                  |\n",
        "| `predicted_score[0]`     | Gets the predicted value from the result (which is in an array) |\n",
        "| `:.2f`                   | Formats the result to 2 decimal places                          |\n"
      ],
      "metadata": {
        "id": "hKN0cwo11MyC"
      }
    },
    {
      "cell_type": "markdown",
      "source": [
        "Boom! 💥\n",
        "\n",
        "You’ve now built a complete Linear Regression model with real prediction power!"
      ],
      "metadata": {
        "id": "cRLHarWX1RHx"
      }
    },
    {
      "cell_type": "markdown",
      "source": [
        "✅ Step 8: Model Evaluation (MSE & R²)"
      ],
      "metadata": {
        "id": "ExZyskNQ1ZQP"
      }
    },
    {
      "cell_type": "markdown",
      "source": [
        "We’ll evaluate the model on the test data (the part the model didn’t see during training) using:\n",
        "\n",
        "📏 1. Mean Squared Error (MSE)\n",
        "Measures average squared difference between actual and predicted values\n",
        "\n",
        "Lower = Better\n",
        "\n",
        "📈 2. R² Score (Coefficient of Determination)\n",
        "Measures how well the model explains the variance in the data\n",
        "\n",
        "Ranges from 0 (bad) to 1 (perfect)"
      ],
      "metadata": {
        "id": "JXmGLxp6197t"
      }
    },
    {
      "cell_type": "code",
      "source": [
        "# Predict on test data\n",
        "y_pred = model.predict(X_test)\n",
        "\n",
        "# Evaluation metrics\n",
        "mse = mean_squared_error(y_test, y_pred)\n",
        "r2 = r2_score(y_test, y_pred)\n",
        "\n",
        "print(f\"Mean Squared Error (MSE): {mse:.2f}\")\n",
        "print(f\"R² Score: {r2:.2f}\")\n"
      ],
      "metadata": {
        "colab": {
          "base_uri": "https://localhost:8080/"
        },
        "id": "EgiPuXWv2dpn",
        "outputId": "944e02e5-b74b-4a57-d387-08f57bb9cdc6"
      },
      "execution_count": null,
      "outputs": [
        {
          "output_type": "stream",
          "name": "stdout",
          "text": [
            "Mean Squared Error (MSE): 18.94\n",
            "R² Score: 0.97\n"
          ]
        }
      ]
    },
    {
      "cell_type": "markdown",
      "source": [
        "✅ Interpretation:\n",
        "\n",
        "| Metric | Good Value  | Meaning                                        |\n",
        "| ------ | ----------- | ---------------------------------------------- |\n",
        "| MSE    | Closer to 0 | Lower error between predicted and actual marks |\n",
        "| R²     | Closer to 1 | Model explains most of the data variation      |\n",
        "\n",
        "So if your R² score is around 0.90, your model is doing great! 🎯\n"
      ],
      "metadata": {
        "id": "kayXOx4W2kDn"
      }
    },
    {
      "cell_type": "markdown",
      "source": [
        "📊 Your Model Evaluation:\n",
        "\n",
        "| Metric       | Value   | Interpretation                                                                                                            |\n",
        "| ------------ | ------- | ------------------------------------------------------------------------------------------------------------------------- |\n",
        "| **MSE**      | `18.94` | Very low error — predictions are very close to actual scores                                                              |\n",
        "| **R² Score** | `0.97`  | 🚀 Your model explains **97%** of the variation in student scores based on hours studied — that’s **extremely accurate**! |\n"
      ],
      "metadata": {
        "id": "1Oth37WK2yNt"
      }
    },
    {
      "cell_type": "markdown",
      "source": [
        "✅ What This Means:\n",
        "Your Linear Regression model is working very well on this dataset.\n",
        "\n",
        "It can confidently predict scores from hours studied.\n",
        "\n",
        "You’ve now completed a real ML project — with:\n",
        "\n",
        "📥 Data Loading\n",
        "\n",
        "📈 Visualization\n",
        "\n",
        "🧠 Model Training\n",
        "\n",
        "🔍 Evaluation\n",
        "\n",
        "🎯 Custom Predictions"
      ],
      "metadata": {
        "id": "p665mWlp2_WR"
      }
    },
    {
      "cell_type": "markdown",
      "source": [
        "✅ Step 9: Save Your Model (Using joblib)\n",
        "\n",
        "We’ll save the trained model so you can reuse it later without retraining.\n",
        "\n",
        "🔧 Install joblib (if not already installed)"
      ],
      "metadata": {
        "id": "amF6_HFB3Ama"
      }
    },
    {
      "cell_type": "code",
      "source": [
        "!pip install joblib\n"
      ],
      "metadata": {
        "colab": {
          "base_uri": "https://localhost:8080/"
        },
        "id": "b6DCKXZC3Ptu",
        "outputId": "c46cb009-d5d7-407d-ead0-de322fa51228"
      },
      "execution_count": null,
      "outputs": [
        {
          "output_type": "stream",
          "name": "stdout",
          "text": [
            "Requirement already satisfied: joblib in /usr/local/lib/python3.11/dist-packages (1.5.1)\n"
          ]
        }
      ]
    },
    {
      "cell_type": "code",
      "source": [
        "import joblib\n",
        "\n",
        "# Save the model\n",
        "joblib.dump(model, \"student_score_predictor.pkl\")\n",
        "print(\"Model saved as student_score_predictor.pkl\")\n"
      ],
      "metadata": {
        "colab": {
          "base_uri": "https://localhost:8080/"
        },
        "id": "W9w0VqFL3Vd3",
        "outputId": "4fe62f27-7c5c-451a-d326-e35429660316"
      },
      "execution_count": null,
      "outputs": [
        {
          "output_type": "stream",
          "name": "stdout",
          "text": [
            "Model saved as student_score_predictor.pkl\n"
          ]
        }
      ]
    },
    {
      "cell_type": "markdown",
      "source": [
        "✅ This creates a file called student_score_predictor.pkl — you can download it and reuse later."
      ],
      "metadata": {
        "id": "iY11BXCa3fDN"
      }
    },
    {
      "cell_type": "markdown",
      "source": [
        "🔁 Load the Saved Model Anytime"
      ],
      "metadata": {
        "id": "exVXYuNm3czO"
      }
    },
    {
      "cell_type": "code",
      "source": [
        "import pandas as pd\n",
        "\n",
        "# Load the model later\n",
        "loaded_model = joblib.load(\"student_score_predictor.pkl\")\n",
        "\n",
        "# Use the loaded model to predict\n",
        "# Predict using a DataFrame with same column name\n",
        "hours_df = pd.DataFrame([[6.5]], columns=['Hours'])\n",
        "predicted_score = loaded_model.predict(hours_df)\n",
        "\n",
        "print(f\"If a student studies for 6.5 hours, they are likely to score {predicted_score[0]:.2f} marks.\")\n",
        "\n"
      ],
      "metadata": {
        "colab": {
          "base_uri": "https://localhost:8080/"
        },
        "id": "OvYspqYD3aOi",
        "outputId": "0fa0adec-4cb0-47d0-d76b-553fb5f869b7"
      },
      "execution_count": null,
      "outputs": [
        {
          "output_type": "stream",
          "name": "stdout",
          "text": [
            "If a student studies for 6.5 hours, they are likely to score 65.76 marks.\n"
          ]
        }
      ]
    },
    {
      "cell_type": "markdown",
      "source": [
        "✅ **Step 10**: Export the Colab Notebook\n",
        "\n",
        "To download your full project:\n",
        "\n",
        "On top-left of Google Colab → Click File\n",
        "\n",
        "Select Download > Download .ipynb\n",
        "\n",
        "This downloads your full notebook as: Linear_Regression_Student_Marks.ipynb\n",
        "\n",
        "You can share or reopen this anytime."
      ],
      "metadata": {
        "id": "HOweAFO84VNt"
      }
    },
    {
      "cell_type": "markdown",
      "source": [
        "README.md\n",
        "\n",
        "## 📊 Student Marks Prediction using Linear Regression\n",
        "\n",
        "This is a simple Machine Learning project that uses **Linear Regression** to predict student marks based on the number of hours they studied.\n",
        "\n",
        "---\n",
        "\n",
        "## 📁 Dataset\n",
        "\n",
        "- Dataset: `student_scores.csv`\n",
        "- Columns:\n",
        "  - `Hours`: Number of hours studied\n",
        "  - `Scores`: Marks scored by the student\n",
        "\n",
        "---\n",
        "\n",
        "## 🎯 Objective\n",
        "\n",
        "To build a model that can:\n",
        "- Learn the relationship between hours studied and marks scored.\n",
        "- Predict the score of a student based on the number of study hours.\n",
        "\n",
        "---\n",
        "\n",
        "## 🔧 Technologies Used\n",
        "\n",
        "- Python 🐍\n",
        "- Google Colab ☁️\n",
        "- Pandas 🐼\n",
        "- Matplotlib 📊\n",
        "- scikit-learn ⚙️\n",
        "- Joblib (for saving the model)\n",
        "\n",
        "---\n",
        "\n",
        "## 🧠 Steps Involved\n",
        "\n",
        "1. Imported required libraries\n",
        "2. Loaded the dataset\n",
        "3. Visualized the data\n",
        "4. Split the dataset into training and testing sets\n",
        "5. Trained a **Linear Regression** model\n",
        "6. Plotted the best-fit regression line\n",
        "7. Evaluated the model using:\n",
        "   - Mean Squared Error (MSE)\n",
        "   - R² Score\n",
        "8. Predicted the score for custom input (e.g., 6.5 hours)\n",
        "9. Saved the model for future use\n",
        "\n",
        "---\n",
        "\n",
        "## 🧪 Example Prediction\n",
        "\n",
        "```python\n",
        "If a student studies for 6.5 hours, they are likely to score: 65.76 marks\n"
      ],
      "metadata": {
        "id": "xfYzj-qI5D_z"
      }
    },
    {
      "cell_type": "markdown",
      "source": [
        "📦 Model Saved\n",
        "\n",
        "student_score_predictor.pkl\n",
        "\n",
        "📂 How to Run This Project\n",
        "\n",
        "Clone or download this repository\n",
        "\n",
        "Open the .ipynb file in Google Colab\n",
        "\n",
        "Run each cell step by step\n",
        "\n",
        "🙌 Author\n",
        "\n",
        "Akash Madasu\n",
        "\n",
        "Beginner ML Engineer 🚀 | Python Enthusiast 🐍\n",
        "\n",
        "✅ Status\n",
        "✅ Completed — Ready for use and improvement!"
      ],
      "metadata": {
        "id": "YgESoyFb552Y"
      }
    }
  ]
}